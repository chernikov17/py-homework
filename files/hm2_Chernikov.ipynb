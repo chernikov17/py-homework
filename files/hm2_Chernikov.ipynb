{
  "nbformat": 4,
  "nbformat_minor": 0,
  "metadata": {
    "colab": {
      "provenance": []
    },
    "kernelspec": {
      "name": "python3",
      "display_name": "Python 3"
    },
    "language_info": {
      "name": "python"
    }
  },
  "cells": [
    {
      "cell_type": "code",
      "execution_count": 22,
      "metadata": {
        "colab": {
          "base_uri": "https://localhost:8080/"
        },
        "id": "L69oW7o7qB7X",
        "outputId": "097764b6-71a5-4f6e-821f-317594ee3bd7"
      },
      "outputs": [
        {
          "output_type": "stream",
          "name": "stdout",
          "text": [
            "{98, 35, 15, 213, 54, 119}\n"
          ]
        }
      ],
      "source": [
        "ids = {'user1': [213, 213, 213, 15, 213],\n",
        "       'user2': [54, 54, 119, 119, 119],\n",
        "       'user3': [213, 98, 98, 35]}\n",
        "\n",
        "rezult = []\n",
        "for i in ids.values():\n",
        "  rezult += i\n",
        "\n",
        "print(set(rezult))"
      ]
    },
    {
      "cell_type": "code",
      "source": [
        "queries = [\n",
        "    'смотреть сериалы онлайн',\n",
        "    'новости спорта',\n",
        "    'афиша кино',\n",
        "    'курс доллара',\n",
        "    'сериалы этим летом',\n",
        "    'курс по питону',\n",
        "    'сериалы про спорт',\n",
        "]\n",
        "\n",
        "rez = dict()\n",
        "\n",
        "for query in queries:\n",
        "  count = len(query.split())\n",
        "  if count in rez.keys():\n",
        "    rez[count] += 1\n",
        "  else:\n",
        "    rez[count] = 1\n",
        "\n",
        "print(\"Поисковых запросов, содержащих 2 слов(а): \"+str(round((rez[2]*100/len(queries)),2))+\"%\")\n",
        "print(\"Поисковых запросов, содержащих 3 слов(а): \"+str(round((rez[3]*100/len(queries)),2))+\"%\")"
      ],
      "metadata": {
        "colab": {
          "base_uri": "https://localhost:8080/"
        },
        "id": "0kpIFZm8sKcL",
        "outputId": "83412870-3e23-4670-cf17-7d4a643de238"
      },
      "execution_count": 66,
      "outputs": [
        {
          "output_type": "stream",
          "name": "stdout",
          "text": [
            "Поисковых запросов, содержащих 2 слов(а): 42.86%\n",
            "Поисковых запросов, содержащих 3 слов(а): 57.14%\n"
          ]
        }
      ]
    }
  ]
}