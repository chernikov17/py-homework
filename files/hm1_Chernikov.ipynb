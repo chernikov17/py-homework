{
  "nbformat": 4,
  "nbformat_minor": 0,
  "metadata": {
    "colab": {
      "provenance": []
    },
    "kernelspec": {
      "name": "python3",
      "display_name": "Python 3"
    },
    "language_info": {
      "name": "python"
    }
  },
  "cells": [
    {
      "cell_type": "code",
      "execution_count": 39,
      "metadata": {
        "colab": {
          "base_uri": "https://localhost:8080/"
        },
        "id": "EqHGo-3RjQtS",
        "outputId": "43e92379-2309-4281-b168-84a51d6be3ab"
      },
      "outputs": [
        {
          "output_type": "stream",
          "name": "stdout",
          "text": [
            "es\n"
          ]
        }
      ],
      "source": [
        "input = \"test\"\n",
        "\n",
        "if len(input) % 2 == 0:\n",
        "  print(input[len(input)//2-1:len(input)//2+1])\n",
        "else:\n",
        "  print(input[len(input)//2])"
      ]
    },
    {
      "cell_type": "code",
      "source": [
        "boys = ['Peter', 'Alex', 'John', 'Arthur', 'Richard']\n",
        "girls = ['Kate', 'Liza', 'Kira', 'Emma', 'Trisha']\n",
        "\n",
        "if len(boys) == len(girls):\n",
        "  boys.sort()\n",
        "  girls.sort()\n",
        "  for b,g in zip(boys, girls):\n",
        "    print(b+\" и \"+g)\n",
        "else:\n",
        "  print(\"Внимание, кто-то может остаться без пары!\")"
      ],
      "metadata": {
        "colab": {
          "base_uri": "https://localhost:8080/"
        },
        "id": "XWWtPjh6mRT8",
        "outputId": "c5df36df-3859-4f64-b2b6-9e0282002662"
      },
      "execution_count": 64,
      "outputs": [
        {
          "output_type": "stream",
          "name": "stdout",
          "text": [
            "Alex и Emma\n",
            "Arthur и Kate\n",
            "John и Kira\n",
            "Peter и Liza\n",
            "Richard и Trisha\n"
          ]
        }
      ]
    }
  ]
}