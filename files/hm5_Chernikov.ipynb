{
  "nbformat": 4,
  "nbformat_minor": 0,
  "metadata": {
    "colab": {
      "provenance": []
    },
    "kernelspec": {
      "name": "python3",
      "display_name": "Python 3"
    },
    "language_info": {
      "name": "python"
    }
  },
  "cells": [
    {
      "cell_type": "code",
      "source": [
        "from datetime import datetime, timedelta"
      ],
      "metadata": {
        "id": "dlFa1EqNbL9X"
      },
      "execution_count": null,
      "outputs": []
    },
    {
      "cell_type": "code",
      "execution_count": 13,
      "metadata": {
        "colab": {
          "base_uri": "https://localhost:8080/"
        },
        "id": "KSHxrClnYwJL",
        "outputId": "630e6855-ea0b-4cfd-f195-3faae7db2a6f"
      },
      "outputs": [
        {
          "output_type": "stream",
          "name": "stdout",
          "text": [
            "The Moscow Times: 2002-10-02 00:00:00\n",
            "The Guardian: 2013-10-11 00:00:00\n",
            "Daily News: 1977-08-18 00:00:00\n"
          ]
        }
      ],
      "source": [
        "first = \"The Moscow Times - Wednesday, October 2, 2002\"\n",
        "second = \"The Guardian - Friday, 11.10.13\"\n",
        "third = \"Daily News - Thursday, 18 August 1977\"\n",
        "\n",
        "first_f = \"%A, %B %d, %Y\"\n",
        "second_f = \"%A, %d.%m.%y\"\n",
        "third_f = \"%A, %d %B %Y\"\n",
        "\n",
        "first_date = datetime.strptime(first.split(\"- \")[1], first_f)\n",
        "second_date = datetime.strptime(second.split(\"- \")[1], second_f)\n",
        "third_date = datetime.strptime(third.split(\"- \")[1], third_f)\n",
        "\n",
        "print(\"The Moscow Times:\", first_date)\n",
        "print(\"The Guardian:\", second_date)\n",
        "print(\"Daily News:\", third_date)"
      ]
    },
    {
      "cell_type": "code",
      "source": [
        "def date_range(s, e):\n",
        "    try:\n",
        "        s = datetime.strptime(s, \"%Y-%m-%d\")\n",
        "        e = datetime.strptime(e, \"%Y-%m-%d\")\n",
        "\n",
        "        if s > e:\n",
        "            return []\n",
        "\n",
        "        date = s\n",
        "        l = []\n",
        "        while date <= e:\n",
        "            l.append(date.strftime(\"%Y-%m-%d\"))\n",
        "            date += timedelta(days=1)\n",
        "\n",
        "        return l\n",
        "\n",
        "    except ValueError:\n",
        "        return []\n",
        "\n",
        "s = '2022-01-01'\n",
        "e = '2022-01-03'\n",
        "res = date_range(s, e)\n",
        "print(res)"
      ],
      "metadata": {
        "colab": {
          "base_uri": "https://localhost:8080/"
        },
        "id": "KIWZtYE7aIw_",
        "outputId": "831545ab-0dad-4466-8157-dbd4d0f8904d"
      },
      "execution_count": 16,
      "outputs": [
        {
          "output_type": "stream",
          "name": "stdout",
          "text": [
            "['2022-01-01', '2022-01-02', '2022-01-03']\n"
          ]
        }
      ]
    }
  ]
}