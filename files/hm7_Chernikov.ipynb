{
  "nbformat": 4,
  "nbformat_minor": 0,
  "metadata": {
    "colab": {
      "provenance": []
    },
    "kernelspec": {
      "name": "python3",
      "display_name": "Python 3"
    },
    "language_info": {
      "name": "python"
    }
  },
  "cells": [
    {
      "cell_type": "code",
      "source": [
        "import re"
      ],
      "metadata": {
        "id": "6aYK5GheMUtl"
      },
      "execution_count": 3,
      "outputs": []
    },
    {
      "cell_type": "code",
      "execution_count": 4,
      "metadata": {
        "id": "clKiCgOiLaBE"
      },
      "outputs": [],
      "source": [
        "def validate(car_id):\n",
        "\n",
        "    pattern = re.compile(r'^[АВЕКМНОРСТУХABEKMHOPCTYX]{1}\\d{3}[АВЕКМНОРСТУХABEKMHOPCTYX]{2}\\d{2,3}$', re.IGNORECASE)\n",
        "\n",
        "    match = pattern.match(car_id)\n",
        "\n",
        "    if match:\n",
        "        number = match.group()[:-2]\n",
        "        region = car_id[-2:]\n",
        "        return f'Номер {number} валиден. Регион: {region}.'\n",
        "    else:\n",
        "        return 'Номер не валиден.'"
      ]
    },
    {
      "cell_type": "code",
      "source": [
        "car_id = 'А222BС96'\n",
        "result = validate(car_id)\n",
        "print(result)"
      ],
      "metadata": {
        "colab": {
          "base_uri": "https://localhost:8080/"
        },
        "id": "V6MYlAeeL4bc",
        "outputId": "b9447b6b-ccaa-434f-86b5-8b5cfdb3aa1d"
      },
      "execution_count": 5,
      "outputs": [
        {
          "output_type": "stream",
          "name": "stdout",
          "text": [
            "Номер А222BС валиден. Регион: 96.\n"
          ]
        }
      ]
    },
    {
      "cell_type": "code",
      "source": [
        "car_id = 'АБ22ВВ193'\n",
        "result = validate(car_id)\n",
        "print(result)"
      ],
      "metadata": {
        "colab": {
          "base_uri": "https://localhost:8080/"
        },
        "id": "eh9_ZpbIMgsu",
        "outputId": "4fd0245b-882a-4c17-a256-28d16f78e64a"
      },
      "execution_count": 6,
      "outputs": [
        {
          "output_type": "stream",
          "name": "stdout",
          "text": [
            "Номер не валиден.\n"
          ]
        }
      ]
    }
  ]
}