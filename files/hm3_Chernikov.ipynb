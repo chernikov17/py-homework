{
  "nbformat": 4,
  "nbformat_minor": 0,
  "metadata": {
    "colab": {
      "provenance": []
    },
    "kernelspec": {
      "name": "python3",
      "display_name": "Python 3"
    },
    "language_info": {
      "name": "python"
    }
  },
  "cells": [
    {
      "cell_type": "code",
      "source": [
        "def sum_distance(fr, to):\n",
        "  if(fr>to):\n",
        "    fr,to = to, fr\n",
        "  return (fr + to) * (to - fr+1) // 2"
      ],
      "metadata": {
        "id": "6MBSSliqg7lR"
      },
      "execution_count": 19,
      "outputs": []
    },
    {
      "cell_type": "code",
      "source": [
        "def trim_and_repeat(str, off = 0, rep = 1):\n",
        "  rez = str[off:]\n",
        "  return rez*rep"
      ],
      "metadata": {
        "id": "9RGqeYEsj0y3"
      },
      "execution_count": 23,
      "outputs": []
    }
  ]
}