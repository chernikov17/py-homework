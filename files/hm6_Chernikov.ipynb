{
  "nbformat": 4,
  "nbformat_minor": 0,
  "metadata": {
    "colab": {
      "provenance": []
    },
    "kernelspec": {
      "name": "python3",
      "display_name": "Python 3"
    },
    "language_info": {
      "name": "python"
    }
  },
  "cells": [
    {
      "cell_type": "code",
      "source": [
        "from datetime import datetime"
      ],
      "metadata": {
        "id": "jA7ueRVnYG8f"
      },
      "execution_count": 14,
      "outputs": []
    },
    {
      "cell_type": "code",
      "execution_count": 15,
      "metadata": {
        "id": "0oaPfmqMV-Zn"
      },
      "outputs": [],
      "source": [
        "class Account:\n",
        "  def __init__(self, name, start_balance=0):\n",
        "    self.name = name\n",
        "    self.balance = start_balance\n",
        "    self.history = []\n",
        "\n",
        "  def Deposit(self, amount):\n",
        "    self.balance += amount\n",
        "    time_depos = datetime.now().strftime(\"%d-%m-%y %H:%M:%S\")\n",
        "    self.history.append(f\"Внесение: +{amount} {time_depos}\")\n",
        "\n",
        "  def Withdraw(self, amount):\n",
        "    if amount <= self.balance:\n",
        "      self.balance -= amount\n",
        "      time_withd = datetime.now().strftime(\"%d-%m-%y %H:%M:%S\")\n",
        "      self.history.append(f\"Вывод: -{amount} {time_withd}\")"
      ]
    },
    {
      "cell_type": "code",
      "source": [
        "A1 = Account(\"Vladimir\", 15000)\n",
        "A1.Deposit(300)\n",
        "A1.Withdraw(13588)\n",
        "\n",
        "print(f\"Баланс: {A1.balance}\")\n",
        "print(A1.history)"
      ],
      "metadata": {
        "colab": {
          "base_uri": "https://localhost:8080/"
        },
        "id": "x4unLttTYuab",
        "outputId": "85d9401e-044a-4263-c1be-bc264ee3a1bd"
      },
      "execution_count": 16,
      "outputs": [
        {
          "output_type": "stream",
          "name": "stdout",
          "text": [
            "Баланс: 1712\n",
            "['Внесение: +300 28-12-23 07:47:00', 'Вывод: -13588 28-12-23 07:47:00']\n"
          ]
        }
      ]
    }
  ]
}